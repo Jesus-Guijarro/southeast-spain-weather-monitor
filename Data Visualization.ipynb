{
 "cells": [
  {
   "cell_type": "code",
   "execution_count": 1,
   "id": "8998b388",
   "metadata": {},
   "outputs": [],
   "source": [
    "import configparser\n",
    "import pandas as pd\n",
    "from sqlalchemy import create_engine\n",
    "\n",
    "cfg = configparser.ConfigParser()\n",
    "cfg.read('config.ini')\n",
    "db = cfg['database']\n",
    "\n",
    "uri = (\n",
    "    f\"postgresql+psycopg2://{db['user']}:{db['password']}\"\n",
    "    f\"@{db['host']}:{db['port']}/{db['dbname']}\"\n",
    ")\n",
    "engine = create_engine(uri)\n"
   ]
  },
  {
   "cell_type": "code",
   "execution_count": 2,
   "id": "e86a46fb",
   "metadata": {},
   "outputs": [],
   "source": [
    "sql = \"\"\"\n",
    "SELECT\n",
    "  weather_records.municipality_id,\n",
    "  municipality_name,\n",
    "  station_name,\n",
    "  station_code,\n",
    "  postal_code,\n",
    "  date,\n",
    "  temperature_observed_min,\n",
    "  temperature_observed_max,\n",
    "  temperature_observed_avg,\n",
    "  temperature_forecast_min,\n",
    "  temperature_forecast_max,\n",
    "  temperature_forecast_avg,\n",
    "  humidity_observed_min,\n",
    "  humidity_observed_max,\n",
    "  humidity_observed_avg,\n",
    "  humidity_forecast_min,\n",
    "  humidity_forecast_max,\n",
    "  humidity_forecast_avg\n",
    "FROM weather_records\n",
    "join municipalities on weather_records.municipality_id = municipalities.municipality_id\n",
    "ORDER BY date;\n",
    "\"\"\"\n",
    "df = pd.read_sql(sql, engine, parse_dates=['date'])\n"
   ]
  },
  {
   "cell_type": "code",
   "execution_count": 3,
   "id": "4bced68d",
   "metadata": {},
   "outputs": [
    {
     "name": "stdout",
     "output_type": "stream",
     "text": [
      "(7145, 18)\n"
     ]
    }
   ],
   "source": [
    "print(df.shape)"
   ]
  },
  {
   "cell_type": "code",
   "execution_count": null,
   "id": "a4bff5cc",
   "metadata": {},
   "outputs": [
    {
     "data": {
      "application/vnd.jupyter.widget-view+json": {
       "model_id": "90155bd60ce246d8b2690e2e1e5f3093",
       "version_major": 2,
       "version_minor": 0
      },
      "text/plain": [
       "VBox(children=(HBox(children=(Dropdown(description='Municipality', options=('Albox', 'Alcantarilla', 'Alcoy', …"
      ]
     },
     "execution_count": 6,
     "metadata": {},
     "output_type": "execute_result"
    }
   ],
   "source": [
    "import plotly.graph_objects as go\n",
    "import ipywidgets as widgets\n",
    "from ipywidgets import interactive_output\n",
    "\n",
    "\n",
    "# Dropdown options\n",
    "municipalities = sorted(df[\"municipality_name\"].unique())\n",
    "\n",
    "# Map: label ➜ (observed_col, forecast_col)\n",
    "series_map = {\n",
    "    \"Temperature(Minimum)\":  (\"temperature_observed_min\",  \"temperature_forecast_min\"),\n",
    "    \"Temperature(Maximum)\":  (\"temperature_observed_max\",  \"temperature_forecast_max\"),\n",
    "    \"Temperature(Average)\":  (\"temperature_observed_avg\",  \"temperature_forecast_avg\"),\n",
    "    \"Relative Humidity(Minimum)\":     (\"humidity_observed_min\",     \"humidity_forecast_min\"),\n",
    "    \"Relative Humidity(Maximum)\":     (\"humidity_observed_max\",     \"humidity_forecast_max\"),\n",
    "    \"Relative Humidity(Average)\":     (\"humidity_observed_avg\",     \"humidity_forecast_avg\"),\n",
    "}\n",
    "\n",
    "# Widgets\n",
    "w_municipality   = widgets.Dropdown(options=municipalities, description=\"Municipality\")\n",
    "w_series = widgets.Dropdown(options=list(series_map.keys()), description=\"Series\")\n",
    "\n",
    "# Plot function\n",
    "def make_plot(municipality, series_label):\n",
    "\n",
    "    # Map the selected series label to its observed and forecast column names\n",
    "    col_observed, col_forecast = series_map[series_label]\n",
    "    \n",
    "    # Filter dataframe for the chosen municipality and relevant columns, sort by date, drop rows with missing values\n",
    "    subset = (\n",
    "        df.loc[df[\"municipality_name\"] == municipality, [\"date\", col_observed, col_forecast]]\n",
    "          .sort_values(\"date\")\n",
    "    )\n",
    "    # Initialize a Plotly figure\n",
    "    fig = go.Figure()\n",
    "\n",
    "    # Add observed data trace as a line\n",
    "    fig.add_trace(go.Scatter(\n",
    "        x=subset[\"date\"], y=subset[col_observed],\n",
    "        mode=\"lines\", name=\"Observed data\",\n",
    "        line=dict(color=\"#1f77b4\")\n",
    "    ))\n",
    "\n",
    "    # Add forecast data trace as a line\n",
    "    fig.add_trace(go.Scatter(\n",
    "        x=subset[\"date\"], y=subset[col_forecast],\n",
    "        mode=\"lines\", name=\"Forecast data\",\n",
    "        line=dict(color=\"#7f7f7f\")\n",
    "    ))\n",
    "    \n",
    "    # Configure layout: titles, axis labels, hover mode, template, and margins\n",
    "    fig.update_layout(\n",
    "        title=f\"{series_label} — {municipality}\",\n",
    "        xaxis_title=\"Date\",\n",
    "        yaxis_title=series_label.split(\" • \")[0],\n",
    "        hovermode=\"x unified\",\n",
    "        template=\"plotly_white\",\n",
    "        legend_title=None,\n",
    "        margin=dict(l=40, r=20, t=60, b=40)\n",
    "    )\n",
    "    # Display the plot in the notebook\n",
    "    fig.show()\n",
    "\n",
    "# Create interactive widgets linked to the make_plot function\n",
    "out = interactive_output(make_plot, {\"municipality\": w_municipality, \"series_label\": w_series})\n",
    "# Arrange widgets and output vertically\n",
    "widgets.VBox([widgets.HBox([w_municipality, w_series]), out])"
   ]
  }
 ],
 "metadata": {
  "kernelspec": {
   "display_name": "Python 3",
   "language": "python",
   "name": "python3"
  },
  "language_info": {
   "codemirror_mode": {
    "name": "ipython",
    "version": 3
   },
   "file_extension": ".py",
   "mimetype": "text/x-python",
   "name": "python",
   "nbconvert_exporter": "python",
   "pygments_lexer": "ipython3",
   "version": "3.13.3"
  }
 },
 "nbformat": 4,
 "nbformat_minor": 5
}
