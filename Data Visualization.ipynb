{
 "cells": [
  {
   "cell_type": "code",
   "execution_count": 1,
   "id": "8998b388",
   "metadata": {},
   "outputs": [],
   "source": [
    "import configparser\n",
    "import pandas as pd\n",
    "from sqlalchemy import create_engine\n",
    "\n",
    "cfg = configparser.ConfigParser()\n",
    "cfg.read('config.ini')\n",
    "db = cfg['database']\n",
    "\n",
    "uri = (\n",
    "    f\"postgresql+psycopg2://{db['user']}:{db['password']}\"\n",
    "    f\"@{db['host']}:{db['port']}/{db['dbname']}\"\n",
    ")\n",
    "engine = create_engine(uri)\n"
   ]
  },
  {
   "cell_type": "code",
   "execution_count": 2,
   "id": "e86a46fb",
   "metadata": {},
   "outputs": [],
   "source": [
    "sql = \"\"\"\n",
    "SELECT\n",
    "  weather_records.municipality_id,\n",
    "  municipality_name,\n",
    "  station_name,\n",
    "  station_code,\n",
    "  postal_code,\n",
    "  date,\n",
    "  temperature_observed_min,\n",
    "  temperature_observed_max,\n",
    "  temperature_observed_avg,\n",
    "  temperature_forecast_min,\n",
    "  temperature_forecast_max,\n",
    "  temperature_forecast_avg,\n",
    "  humidity_observed_min,\n",
    "  humidity_observed_max,\n",
    "  humidity_observed_avg,\n",
    "  humidity_forecast_min,\n",
    "  humidity_forecast_max,\n",
    "  humidity_forecast_avg\n",
    "FROM weather_records\n",
    "join municipalities on weather_records.municipality_id = municipalities.municipality_id\n",
    "ORDER BY date;\n",
    "\"\"\"\n",
    "df = pd.read_sql(sql, engine, parse_dates=['date'])\n"
   ]
  },
  {
   "cell_type": "code",
   "execution_count": 3,
   "id": "4bced68d",
   "metadata": {},
   "outputs": [
    {
     "name": "stdout",
     "output_type": "stream",
     "text": [
      "(10432, 18)\n"
     ]
    }
   ],
   "source": [
    "print(df.shape)"
   ]
  },
  {
   "cell_type": "code",
   "execution_count": 5,
   "id": "a4bff5cc",
   "metadata": {},
   "outputs": [
    {
     "data": {
      "application/vnd.jupyter.widget-view+json": {
       "model_id": "6eaa74ede72949b18da2162696aa8481",
       "version_major": 2,
       "version_minor": 0
      },
      "text/plain": [
       "VBox(children=(VBox(children=(HBox(children=(Dropdown(description='Municipality:', options=('Albox', 'Alcantar…"
      ]
     },
     "metadata": {},
     "output_type": "display_data"
    }
   ],
   "source": [
    "import plotly.graph_objects as go\n",
    "import ipywidgets as widgets\n",
    "from ipywidgets import interactive_output\n",
    "from IPython.display import display\n",
    "import pandas as pd\n",
    "from typing import Tuple\n",
    "\n",
    "# Map between display names and DataFrame columns\n",
    "SERIES_MAP: dict[str, Tuple[str, str]] = {\n",
    "    \"Temperature (Min)\": (\"temperature_observed_min\", \"temperature_forecast_min\"),\n",
    "    \"Temperature (Max)\": (\"temperature_observed_max\", \"temperature_forecast_max\"),\n",
    "    \"Temperature (Avg)\": (\"temperature_observed_avg\", \"temperature_forecast_avg\"),\n",
    "    \"Humidity (Min)\":    (\"humidity_observed_min\",    \"humidity_forecast_min\"),\n",
    "    \"Humidity (Max)\":    (\"humidity_observed_max\",    \"humidity_forecast_max\"),\n",
    "    \"Humidity (Avg)\":    (\"humidity_observed_avg\",    \"humidity_forecast_avg\"),\n",
    "}\n",
    "\n",
    "def get_series_columns(label: str) -> Tuple[str, str]:\n",
    "    \"\"\"Return observed and forecast column names for a given series label.\"\"\"\n",
    "    return SERIES_MAP[label]\n",
    "\n",
    "def create_figure(\n",
    "    data: pd.DataFrame,\n",
    "    municipality: str,\n",
    "    observed_col: str,\n",
    "    forecast_col: str,\n",
    "    series_label: str\n",
    ") -> go.Figure:\n",
    "    \"\"\"Generate a Plotly figure for observed vs forecast data.\"\"\"\n",
    "    fig = go.Figure()\n",
    "    fig.add_trace(go.Scatter(\n",
    "        x=data[\"date\"], y=data[observed_col],\n",
    "        mode=\"lines\", name=\"Observed\",\n",
    "        line=dict(color=\"#1f77b4\")\n",
    "    ))\n",
    "    fig.add_trace(go.Scatter(\n",
    "        x=data[\"date\"], y=data[forecast_col],\n",
    "        mode=\"lines\", name=\"Forecast\",\n",
    "        line=dict(color=\"#7f7f7f\", dash=\"dash\")\n",
    "    ))\n",
    "    fig.update_layout(\n",
    "        title=f\"{series_label} — {municipality}\",\n",
    "        xaxis_title=\"Date\",\n",
    "        yaxis_title=series_label,\n",
    "        hovermode=\"x unified\",\n",
    "        template=\"plotly_white\",\n",
    "        margin=dict(l=40, r=20, t=60, b=40)\n",
    "    )\n",
    "    return fig\n",
    "\n",
    "# Initialise widgets\n",
    "municipality_widget = widgets.Dropdown(\n",
    "    options=sorted(df[\"municipality_name\"].unique()),\n",
    "    description=\"Municipality:\"\n",
    ")\n",
    "series_widget = widgets.Dropdown(\n",
    "    options=list(SERIES_MAP.keys()),\n",
    "    description=\"Series:\"\n",
    ")\n",
    "start_date_widget = widgets.DatePicker(\n",
    "    description=\"Start date\",\n",
    "    value=df[\"date\"].min().date()\n",
    ")\n",
    "end_date_widget = widgets.DatePicker(\n",
    "    description=\"End date\",\n",
    "    value=df[\"date\"].max().date()\n",
    ")\n",
    "\n",
    "def update_plot(\n",
    "    municipality: str,\n",
    "    series_label: str,\n",
    "    start_date,\n",
    "    end_date\n",
    "):\n",
    "    \"\"\"Callback to update the plot based on widget values.\"\"\"\n",
    "    observed_col, forecast_col = get_series_columns(series_label)\n",
    "    mask = (\n",
    "        (df[\"municipality_name\"] == municipality) &\n",
    "        (df[\"date\"] >= pd.to_datetime(start_date)) &\n",
    "        (df[\"date\"] <= pd.to_datetime(end_date))\n",
    "    )\n",
    "    subset = df.loc[mask, [\"date\", observed_col, forecast_col]].sort_values(\"date\")\n",
    "    fig = create_figure(subset, municipality, observed_col, forecast_col, series_label)\n",
    "    fig.show()\n",
    "\n",
    "# Link widgets to the callback\n",
    "output = interactive_output(\n",
    "    update_plot,\n",
    "    {\n",
    "        \"municipality\": municipality_widget,\n",
    "        \"series_label\": series_widget,\n",
    "        \"start_date\": start_date_widget,\n",
    "        \"end_date\": end_date_widget\n",
    "    }\n",
    ")\n",
    "\n",
    "# Arrange and display\n",
    "controls = widgets.VBox([\n",
    "    widgets.HBox([municipality_widget, series_widget]),\n",
    "    widgets.HBox([start_date_widget, end_date_widget])\n",
    "])\n",
    "display(widgets.VBox([controls, output]))\n"
   ]
  }
 ],
 "metadata": {
  "kernelspec": {
   "display_name": "Python 3",
   "language": "python",
   "name": "python3"
  },
  "language_info": {
   "codemirror_mode": {
    "name": "ipython",
    "version": 3
   },
   "file_extension": ".py",
   "mimetype": "text/x-python",
   "name": "python",
   "nbconvert_exporter": "python",
   "pygments_lexer": "ipython3",
   "version": "3.13.6"
  }
 },
 "nbformat": 4,
 "nbformat_minor": 5
}
