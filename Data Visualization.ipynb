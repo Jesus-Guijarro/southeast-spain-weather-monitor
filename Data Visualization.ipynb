{
 "cells": [
  {
   "cell_type": "code",
   "execution_count": 2,
   "id": "8998b388",
   "metadata": {},
   "outputs": [],
   "source": [
    "import configparser\n",
    "import pandas as pd\n",
    "from sqlalchemy import create_engine\n",
    "\n",
    "cfg = configparser.ConfigParser()\n",
    "cfg.read('config.ini')\n",
    "db = cfg['database']\n",
    "\n",
    "uri = (\n",
    "    f\"postgresql+psycopg2://{db['user']}:{db['password']}\"\n",
    "    f\"@{db['host']}:{db['port']}/{db['dbname']}\"\n",
    ")\n",
    "engine = create_engine(uri)\n"
   ]
  },
  {
   "cell_type": "code",
   "execution_count": 3,
   "id": "e86a46fb",
   "metadata": {},
   "outputs": [],
   "source": [
    "sql = \"\"\"\n",
    "SELECT\n",
    "  weather_data.city_id,\n",
    "  city_name,\n",
    "  station_name,\n",
    "  station_code,\n",
    "  postal_code,\n",
    "  date,\n",
    "  temperature_measured_min,\n",
    "  temperature_measured_max,\n",
    "  temperature_measured_avg,\n",
    "  temperature_predicted_min,\n",
    "  temperature_predicted_max,\n",
    "  temperature_predicted_avg,\n",
    "  humidity_measured_min,\n",
    "  humidity_measured_max,\n",
    "  humidity_measured_avg,\n",
    "  humidity_predicted_min,\n",
    "  humidity_predicted_max,\n",
    "  humidity_predicted_avg\n",
    "FROM weather_data\n",
    "join cities on weather_data.city_id = cities.city_id\n",
    "ORDER BY date;\n",
    "\"\"\"\n",
    "df = pd.read_sql(sql, engine, parse_dates=['date'])\n"
   ]
  },
  {
   "cell_type": "code",
   "execution_count": 4,
   "id": "4bced68d",
   "metadata": {},
   "outputs": [
    {
     "name": "stdout",
     "output_type": "stream",
     "text": [
      "(6104, 18)\n"
     ]
    }
   ],
   "source": [
    "print(df.shape)"
   ]
  },
  {
   "cell_type": "code",
   "execution_count": 5,
   "id": "a4bff5cc",
   "metadata": {},
   "outputs": [
    {
     "data": {
      "application/vnd.jupyter.widget-view+json": {
       "model_id": "e968ddaa2357466187f7159ae72e2f4f",
       "version_major": 2,
       "version_minor": 0
      },
      "text/plain": [
       "VBox(children=(HBox(children=(Dropdown(description='City', options=('Alcantarilla', 'Alcoy', 'Alicante/Alacant…"
      ]
     },
     "execution_count": 5,
     "metadata": {},
     "output_type": "execute_result"
    }
   ],
   "source": [
    "import plotly.graph_objects as go\n",
    "import ipywidgets as widgets\n",
    "from ipywidgets import interactive_output\n",
    "\n",
    "# Dropdown options\n",
    "cities = sorted(df[\"city_name\"].unique())\n",
    "\n",
    "# Map: label ➜ (measured_col, predicted_col)\n",
    "series_map = {\n",
    "    \"Temperature(Minimum)\":  (\"temperature_measured_min\",  \"temperature_predicted_min\"),\n",
    "    \"Temperature(Maximum)\":  (\"temperature_measured_max\",  \"temperature_predicted_max\"),\n",
    "    \"Temperature(Average)\":  (\"temperature_measured_avg\",  \"temperature_predicted_avg\"),\n",
    "    \"Relative Humidity(Minimum)\":     (\"humidity_measured_min\",     \"humidity_predicted_min\"),\n",
    "    \"Relative Humidity(Maximum)\":     (\"humidity_measured_max\",     \"humidity_predicted_max\"),\n",
    "    \"Relative Humidity(Average)\":     (\"humidity_measured_avg\",     \"humidity_predicted_avg\"),\n",
    "}\n",
    "\n",
    "# Widgets\n",
    "w_city   = widgets.Dropdown(options=cities, description=\"City\")\n",
    "w_series = widgets.Dropdown(options=list(series_map.keys()), description=\"Series\")\n",
    "\n",
    "# Plot function\n",
    "def make_plot(city, series_label):\n",
    "\n",
    "    # Map the selected series label to its measured and predicted column names\n",
    "    col_meas, col_pred = series_map[series_label]\n",
    "    \n",
    "    # Filter dataframe for the chosen city and relevant columns, sort by date, drop rows with missing values\n",
    "    subset = (\n",
    "        df.loc[df[\"city_name\"] == city, [\"date\", col_meas, col_pred]]\n",
    "          .sort_values(\"date\")\n",
    "          .dropna(subset=[col_meas, col_pred])\n",
    "    )\n",
    "    # Initialize a Plotly figure\n",
    "    fig = go.Figure()\n",
    "\n",
    "    # Add measured data trace as a line\n",
    "    fig.add_trace(go.Scatter(\n",
    "        x=subset[\"date\"], y=subset[col_meas],\n",
    "        mode=\"lines\", name=\"Measured\",\n",
    "        line=dict(color=\"#1f77b4\")\n",
    "    ))\n",
    "\n",
    "    # Add predicted data trace as a line\n",
    "    fig.add_trace(go.Scatter(\n",
    "        x=subset[\"date\"], y=subset[col_pred],\n",
    "        mode=\"lines\", name=\"Predicted\",\n",
    "        line=dict(color=\"#7f7f7f\")\n",
    "    ))\n",
    "    \n",
    "    # Configure layout: titles, axis labels, hover mode, template, and margins\n",
    "    fig.update_layout(\n",
    "        title=f\"{series_label} — {city}\",\n",
    "        xaxis_title=\"Date\",\n",
    "        yaxis_title=series_label.split(\" • \")[0],\n",
    "        hovermode=\"x unified\",\n",
    "        template=\"plotly_white\",\n",
    "        legend_title=None,\n",
    "        margin=dict(l=40, r=20, t=60, b=40)\n",
    "    )\n",
    "    # Display the plot in the notebook\n",
    "    fig.show()\n",
    "\n",
    "# Create interactive widgets linked to the make_plot function\n",
    "out = interactive_output(make_plot, {\"city\": w_city, \"series_label\": w_series})\n",
    "# Arrange widgets and output vertically\n",
    "widgets.VBox([widgets.HBox([w_city, w_series]), out])"
   ]
  }
 ],
 "metadata": {
  "kernelspec": {
   "display_name": "Python 3",
   "language": "python",
   "name": "python3"
  },
  "language_info": {
   "codemirror_mode": {
    "name": "ipython",
    "version": 3
   },
   "file_extension": ".py",
   "mimetype": "text/x-python",
   "name": "python",
   "nbconvert_exporter": "python",
   "pygments_lexer": "ipython3",
   "version": "3.13.3"
  }
 },
 "nbformat": 4,
 "nbformat_minor": 5
}
